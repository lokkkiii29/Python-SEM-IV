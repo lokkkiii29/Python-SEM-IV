{
 "cells": [
  {
   "cell_type": "markdown",
   "id": "995beca8-9407-4d85-a344-5118eeb2c949",
   "metadata": {},
   "source": [
    "### **Conditional Statements**"
   ]
  },
  {
   "cell_type": "code",
   "execution_count": 14,
   "id": "1aeb5545-1c6d-4ae4-82a5-e9b6ce7566b5",
   "metadata": {},
   "outputs": [
    {
     "name": "stdout",
     "output_type": "stream",
     "text": [
      "5\n",
      "2\n"
     ]
    },
    {
     "data": {
      "text/plain": [
       "False"
      ]
     },
     "execution_count": 14,
     "metadata": {},
     "output_type": "execute_result"
    }
   ],
   "source": [
    "def find_a(s):\n",
    "    for i in range(len(s)):\n",
    "        if s[i] == 'a':\n",
    "            a_index = i\n",
    "        else: pass\n",
    "    return a_index\n",
    "\n",
    "\n",
    "def checkString (s : str) -> bool:\n",
    "    if len(s) == 0:\n",
    "        return True\n",
    "    else:\n",
    "        if 'a' not in s:\n",
    "            return True\n",
    "        elif 'b' not in s:\n",
    "            return False\n",
    "        a_index = find_a(s)\n",
    "        print(a_index)\n",
    "        print(s.index('b'))\n",
    "        if a_index < s.index('b'):\n",
    "            return True\n",
    "        else:\n",
    "            return False\n",
    "\n",
    "checkString(\"aabbaa\")"
   ]
  },
  {
   "cell_type": "code",
   "execution_count": null,
   "id": "425c47ca-236c-4ff6-950f-3a4dc09a7b34",
   "metadata": {},
   "outputs": [],
   "source": []
  }
 ],
 "metadata": {
  "kernelspec": {
   "display_name": "Python 3 (ipykernel)",
   "language": "python",
   "name": "python3"
  },
  "language_info": {
   "codemirror_mode": {
    "name": "ipython",
    "version": 3
   },
   "file_extension": ".py",
   "mimetype": "text/x-python",
   "name": "python",
   "nbconvert_exporter": "python",
   "pygments_lexer": "ipython3",
   "version": "3.13.1"
  }
 },
 "nbformat": 4,
 "nbformat_minor": 5
}
