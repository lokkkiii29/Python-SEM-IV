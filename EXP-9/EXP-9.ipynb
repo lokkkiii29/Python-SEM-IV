{
 "cells": [
  {
   "cell_type": "markdown",
   "id": "73498e4e-9c5b-443e-b4aa-a13089fe24c5",
   "metadata": {},
   "source": [
    "## **EXPERIMENT NO-9 : Threads**\n",
    "## **LOKESH RATHOD**\n",
    "## **_SE3-S1 //  ROLL NO - 22_**"
   ]
  },
  {
   "cell_type": "code",
   "execution_count": 1,
   "id": "2c35445d-7031-4320-a1cb-fd686019c44d",
   "metadata": {},
   "outputs": [
    {
     "name": "stdout",
     "output_type": "stream",
     "text": [
      "Thread 1 - Number: 1\n",
      "Thread 2 - Letter: A\n",
      "Thread 3 - Square of 1: 1\n",
      "Thread 1 - Number: 2\n",
      "Thread 2 - Letter: B\n",
      "Thread 3 - Square of 2: 4\n",
      "Thread 1 - Number: 3\n",
      "Thread 2 - Letter: C\n",
      "Thread 3 - Square of 3: 9\n",
      "Thread 1 - Number: 4\n",
      "Thread 3 - Square of 4: 16\n",
      "Thread 2 - Letter: D\n",
      "Thread 1 - Number: 5Thread 2 - Letter: E\n",
      "Thread 3 - Square of 5: 25\n",
      "\n",
      "All threads have finished executing.\n"
     ]
    }
   ],
   "source": [
    "import threading\n",
    "import time\n",
    "\n",
    "def print_numbers():\n",
    "    for i in range(1, 6):\n",
    "        print(f\"Thread 1 - Number: {i}\")\n",
    "        time.sleep(1)\n",
    "\n",
    "def print_letters():\n",
    "    for letter in 'ABCDE':\n",
    "        print(f\"Thread 2 - Letter: {letter}\")\n",
    "        time.sleep(1)\n",
    "\n",
    "def print_squares():\n",
    "    for i in range(1, 6):\n",
    "        print(f\"Thread 3 - Square of {i}: {i ** 2}\")\n",
    "        time.sleep(1)\n",
    "\n",
    "# Creating threads\n",
    "thread1 = threading.Thread(target=print_numbers)\n",
    "thread2 = threading.Thread(target=print_letters)\n",
    "thread3 = threading.Thread(target=print_squares)\n",
    "\n",
    "# Starting threads\n",
    "thread1.start()\n",
    "thread2.start()\n",
    "thread3.start()\n",
    "\n",
    "# Ensuring all threads complete\n",
    "thread1.join()\n",
    "thread2.join()\n",
    "thread3.join()\n",
    "\n",
    "print(\"All threads have finished executing.\")"
   ]
  },
  {
   "cell_type": "code",
   "execution_count": null,
   "id": "dd608965-0a44-4c42-9a2a-b3a2a41ef983",
   "metadata": {},
   "outputs": [],
   "source": []
  }
 ],
 "metadata": {
  "kernelspec": {
   "display_name": "Python 3 (ipykernel)",
   "language": "python",
   "name": "python3"
  },
  "language_info": {
   "codemirror_mode": {
    "name": "ipython",
    "version": 3
   },
   "file_extension": ".py",
   "mimetype": "text/x-python",
   "name": "python",
   "nbconvert_exporter": "python",
   "pygments_lexer": "ipython3",
   "version": "3.13.1"
  }
 },
 "nbformat": 4,
 "nbformat_minor": 5
}
