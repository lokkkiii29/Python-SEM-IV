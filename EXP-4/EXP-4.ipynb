{
 "cells": [
  {
   "cell_type": "markdown",
   "id": "df934987-125a-4181-8b0c-0ad9f14009c2",
   "metadata": {},
   "source": [
    "## **EXPERIMENT NO-4 : File Handeling**\n",
    "## **LOKESH RATHOD**\n",
    "## **_SE3-S1 //  ROLL NO - 22_**"
   ]
  },
  {
   "cell_type": "code",
   "execution_count": 1,
   "id": "ff221a3a-0c29-4230-9b54-c0a397c4b410",
   "metadata": {},
   "outputs": [
    {
     "name": "stdout",
     "output_type": "stream",
     "text": [
      "Write excuted\n",
      "This is the text after read:  Hola, This is the first text!\n",
      "Read excuted\n",
      "Append executed\n",
      "Text after appending:  Hola, This is the first text! This is the second text\n"
     ]
    }
   ],
   "source": [
    "from contextlib import contextmanager\n",
    "\n",
    "@contextmanager\n",
    "def genericFileFunction (filename, method):\n",
    "    file = open (filename, method)\n",
    "    yield file\n",
    "    file.close ()\n",
    "\n",
    "if __name__ == '__main__':\n",
    "    try : \n",
    "        f_name : 'SE3_22'\n",
    "\n",
    "    \n",
    "        #Write \n",
    "        with genericFileFunction('SE3_22', 'w') as f:\n",
    "            f.write(\"Hola, This is the first text!\")\n",
    "            print(\"Write excuted\")\n",
    "        #Read\n",
    "        with genericFileFunction('SE3_22', 'r') as f:\n",
    "            content = f.read()\n",
    "            print(\"This is the text after read: \", content)\n",
    "            print(\"Read excuted\")\n",
    "        #Append\n",
    "        with genericFileFunction('SE3_22', 'a') as f:\n",
    "            f.write(\" This is the second text\")\n",
    "            print(\"Append executed\")\n",
    "\n",
    "        with genericFileFunction('SE3_22', 'r') as f:\n",
    "            updated_content = f.read()\n",
    "            print(\"Text after appending: \", updated_content)\n",
    "\n",
    "    except Exception as e:\n",
    "        print(e)\n",
    "\n",
    "    # Remove the pass and call the function to perform write.\n",
    "    # Read the file that was created while writing.\n",
    "    # Make the changes in the file by appending some material.\n",
    "    # Again read the same file.\n",
    "\n",
    "    '''\n",
    "    Print all the output of the function.\n",
    "    For better representation, please use jupyter.\n",
    "    Will also aid in easy maintanence of files for submissions.\n",
    "    '''"
   ]
  },
  {
   "cell_type": "code",
   "execution_count": null,
   "id": "8f94bb1b-55eb-4cc9-98cf-9c299f27d741",
   "metadata": {},
   "outputs": [],
   "source": []
  }
 ],
 "metadata": {
  "kernelspec": {
   "display_name": "Python 3 (ipykernel)",
   "language": "python",
   "name": "python3"
  },
  "language_info": {
   "codemirror_mode": {
    "name": "ipython",
    "version": 3
   },
   "file_extension": ".py",
   "mimetype": "text/x-python",
   "name": "python",
   "nbconvert_exporter": "python",
   "pygments_lexer": "ipython3",
   "version": "3.13.1"
  }
 },
 "nbformat": 4,
 "nbformat_minor": 5
}
