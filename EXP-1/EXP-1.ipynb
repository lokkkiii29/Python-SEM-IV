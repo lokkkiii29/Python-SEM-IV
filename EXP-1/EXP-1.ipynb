{
 "cells": [
  {
   "cell_type": "markdown",
   "id": "fd194b7e-9a48-436c-8a1b-bdf1cae3298f",
   "metadata": {},
   "source": [
    "### **Strings in Python**"
   ]
  },
  {
   "cell_type": "code",
   "execution_count": 1,
   "id": "752dd584-eecf-474d-aa9a-6ac5b360ff90",
   "metadata": {},
   "outputs": [
    {
     "name": "stdout",
     "output_type": "stream",
     "text": [
      "This is a string\n",
      "This is a string\n",
      "This is a string\n"
     ]
    }
   ],
   "source": [
    "# Assigning string to a variable\n",
    "a = 'This is a string'\n",
    "print (a)\n",
    "b = \"This is a string\"\n",
    "print (b)\n",
    "c= '''This is a string'''\n",
    "print (c)"
   ]
  },
  {
   "cell_type": "markdown",
   "id": "73261394-6cdc-412f-ab68-34bb57460fdf",
   "metadata": {},
   "source": [
    "### **Lists in Python**"
   ]
  },
  {
   "cell_type": "code",
   "execution_count": 2,
   "id": "adb08732-275e-4e5b-8fc4-1815e3d018e4",
   "metadata": {},
   "outputs": [
    {
     "name": "stdout",
     "output_type": "stream",
     "text": [
      "[1, 'a', 'string', 3]\n",
      "[1, 'a', 'string', 3, 6]\n",
      "[1, 'a', 'string', 3]\n",
      "a\n"
     ]
    }
   ],
   "source": [
    "# Declaring a list\n",
    "L = [1, \"a\" , \"string\" , 1+2]\n",
    "print (L)\n",
    "#Adding an element in the list\n",
    "L.append(6) \n",
    "print (L)\n",
    "#Deleting last element from a list\n",
    "L.pop()\n",
    "print (L)\n",
    "#Displaying Second element of the list\n",
    "print (L[1])"
   ]
  },
  {
   "cell_type": "markdown",
   "id": "dfd0a354-ebfd-43e2-9d04-d73d86dac632",
   "metadata": {},
   "source": [
    "### **Tuples in Python**"
   ]
  },
  {
   "cell_type": "code",
   "execution_count": 3,
   "id": "b6c5b154-4ecb-4507-a363-baeba469d2e8",
   "metadata": {},
   "outputs": [
    {
     "name": "stdout",
     "output_type": "stream",
     "text": [
      "(1, 'a', 'string', 3)\n",
      "a\n"
     ]
    }
   ],
   "source": [
    "tup = (1, \"a\", \"string\", 1+2)\n",
    "print(tup)\n",
    "print(tup[1])"
   ]
  },
  {
   "cell_type": "markdown",
   "id": "45c945ea-a5b6-4bfa-883f-c78989368a4e",
   "metadata": {},
   "source": [
    "**Dictionaries in Python**\n",
    "A Python dictionary is a data structure that stores the value in key: value pairs. Values in a dictionary can be of any data type and can be duplicated, whereas keys can’t be repeated and must be immutable."
   ]
  },
  {
   "cell_type": "code",
   "execution_count": 4,
   "id": "676b37f0-d7eb-4f67-aacc-cad97e80b009",
   "metadata": {},
   "outputs": [
    {
     "name": "stdout",
     "output_type": "stream",
     "text": [
      "{1: 'Lorem', 2: 'Ipsum', 3: 'Dolerum'}\n"
     ]
    }
   ],
   "source": [
    "d = {1: 'Lorem', 2: 'Ipsum', 3: 'Dolerum'}\n",
    "print(d)"
   ]
  },
  {
   "cell_type": "markdown",
   "id": "ba992f80-a227-405a-98a7-013a5e3373f7",
   "metadata": {},
   "source": [
    "### **Create a Dictionary**"
   ]
  },
  {
   "cell_type": "code",
   "execution_count": 5,
   "id": "07747547-c250-4bd3-b606-1ffcf6f1776b",
   "metadata": {},
   "outputs": [
    {
     "name": "stdout",
     "output_type": "stream",
     "text": [
      "{1: 'Game', 2: 'of', 3: 'Thrones'}\n",
      "{'a': 'House', 'b': 'of', 'c': 'Cards'}\n"
     ]
    }
   ],
   "source": [
    "# create dictionary using { }\n",
    "d1 = {1: 'Game', 2: 'of', 3: 'Thrones'}\n",
    "print(d1)\n",
    "\n",
    "# create dictionary using dict() constructor\n",
    "d2 = dict(a = \"House\", b = \"of\", c = \"Cards\")\n",
    "print(d2)"
   ]
  },
  {
   "cell_type": "markdown",
   "id": "9aca9140-3ddd-4920-8897-f0ad9f0aef1c",
   "metadata": {},
   "source": [
    "### **Accessing Dictionary Items**"
   ]
  },
  {
   "cell_type": "code",
   "execution_count": 6,
   "id": "53ee9b97-8a16-423e-9c3c-e1102b8b8b88",
   "metadata": {},
   "outputs": [
    {
     "name": "stdout",
     "output_type": "stream",
     "text": [
      "Alice\n",
      "Alice\n"
     ]
    }
   ],
   "source": [
    "d = { \"name\": \"Alice\", 1: \"Python\", (1, 2): [1,2,4] }\n",
    "\n",
    "# Access using key\n",
    "print(d[\"name\"])\n",
    "\n",
    "# Access using get()\n",
    "print(d.get(\"name\"))"
   ]
  },
  {
   "cell_type": "markdown",
   "id": "0a1488c3-26fb-4fb3-a63d-eff5f854f608",
   "metadata": {},
   "source": [
    "### **Adding and Updating Dictionary Items**"
   ]
  },
  {
   "cell_type": "code",
   "execution_count": 7,
   "id": "2176c7f8-7d60-434a-97e4-708281fad4e6",
   "metadata": {},
   "outputs": [
    {
     "name": "stdout",
     "output_type": "stream",
     "text": [
      "{1: 'Python dict', 2: 'of', 3: 'Thrones', 'age': 22}\n"
     ]
    }
   ],
   "source": [
    "d = {1: 'Game', 2: 'of', 3: 'Thrones'}\n",
    "\n",
    "# Adding a new key-value pair\n",
    "d[\"age\"] = 22\n",
    "\n",
    "# Updating an existing value\n",
    "d[1] = \"Python dict\"\n",
    "\n",
    "print(d)"
   ]
  },
  {
   "cell_type": "markdown",
   "id": "e6266cf0-68b7-4107-84c0-4eb938515a56",
   "metadata": {},
   "source": [
    "### **Deleting an item in Dictionary Items**"
   ]
  },
  {
   "cell_type": "code",
   "execution_count": 2,
   "id": "c9bad71c-cdd4-48ae-8ab5-d4ca08076c5f",
   "metadata": {},
   "outputs": [
    {
     "name": "stdout",
     "output_type": "stream",
     "text": [
      "{}\n",
      "Removed value: 22\n"
     ]
    }
   ],
   "source": [
    "d = {1: 'Game', 2: 'of', 3: 'Thrones', 'age': 22}\n",
    "\n",
    "del d[1]\n",
    "removed_value = d.pop('age') \n",
    "d.clear()  \n",
    "\n",
    "print(d) \n",
    "print(\"Removed value:\", removed_value)"
   ]
  }
 ],
 "metadata": {
  "kernelspec": {
   "display_name": "Python 3 (ipykernel)",
   "language": "python",
   "name": "python3"
  },
  "language_info": {
   "codemirror_mode": {
    "name": "ipython",
    "version": 3
   },
   "file_extension": ".py",
   "mimetype": "text/x-python",
   "name": "python",
   "nbconvert_exporter": "python",
   "pygments_lexer": "ipython3",
   "version": "3.13.1"
  }
 },
 "nbformat": 4,
 "nbformat_minor": 5
}
