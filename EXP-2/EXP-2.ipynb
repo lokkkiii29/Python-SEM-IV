{
 "cells": [
  {
   "cell_type": "code",
   "execution_count": 1,
   "id": "262797ac-ee22-4366-be2b-e75f15f79d88",
   "metadata": {},
   "outputs": [
    {
     "name": "stdin",
     "output_type": "stream",
     "text": [
      "Does Employee know Frontend Coding?(Yes->1/No->0)\n",
      " 0\n",
      "Does Employee know Backend Coding?(Yes->1/No->0)\n",
      " 0\n"
     ]
    },
    {
     "name": "stdout",
     "output_type": "stream",
     "text": [
      "Not a  Developer\n"
     ]
    }
   ],
   "source": [
    "class Employee:\n",
    "    def __init__ (\n",
    "            self,\n",
    "            frontend : bool = False,\n",
    "            backend : bool = False\n",
    "    ):\n",
    "        self.designation = \"Developer\"\n",
    "        self.frontend = frontend\n",
    "        self.backend = backend\n",
    "\n",
    "    def __repr__ (self):\n",
    "        return '{}'.format (self.designation, self.frontend, self.backend)\n",
    "\n",
    "    ### Write the your method over here.\n",
    "    def verifier (self):\n",
    "        if ((self.backend) and (self.frontend)):\n",
    "            return 'Fullstack '\n",
    "        elif self.backend:\n",
    "            return 'Backend '\n",
    "        elif self.frontend:\n",
    "            return 'Frontend'\n",
    "        else:\n",
    "            return 'Not a '\n",
    "\n",
    "\n",
    "frnt = bool(int(input(\"Does Employee know Frontend Coding?(Yes->1/No->0)\\n\")))\n",
    "bck = bool(int(input(\"Does Employee know Backend Coding?(Yes->1/No->0)\\n\")))\n",
    "firstEmployee = Employee (frontend=frnt, backend=bck)\n",
    "result = firstEmployee.verifier()\n",
    "print(result, firstEmployee.designation)"
   ]
  },
  {
   "cell_type": "code",
   "execution_count": null,
   "id": "da45646f-b0eb-450f-8a8a-d3b900056ef6",
   "metadata": {},
   "outputs": [],
   "source": []
  }
 ],
 "metadata": {
  "kernelspec": {
   "display_name": "Python 3 (ipykernel)",
   "language": "python",
   "name": "python3"
  },
  "language_info": {
   "codemirror_mode": {
    "name": "ipython",
    "version": 3
   },
   "file_extension": ".py",
   "mimetype": "text/x-python",
   "name": "python",
   "nbconvert_exporter": "python",
   "pygments_lexer": "ipython3",
   "version": "3.13.1"
  }
 },
 "nbformat": 4,
 "nbformat_minor": 5
}
