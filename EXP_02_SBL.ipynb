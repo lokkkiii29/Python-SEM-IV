{
  "nbformat": 4,
  "nbformat_minor": 0,
  "metadata": {
    "colab": {
      "provenance": []
    },
    "kernelspec": {
      "name": "python3",
      "display_name": "Python 3"
    },
    "language_info": {
      "name": "python"
    }
  },
  "cells": [
    {
      "cell_type": "code",
      "execution_count": 9,
      "metadata": {
        "id": "MB5uCis1XoU2",
        "colab": {
          "base_uri": "https://localhost:8080/"
        },
        "outputId": "0fb55510-81e0-4257-f97f-9b0bf71cef20"
      },
      "outputs": [
        {
          "output_type": "stream",
          "name": "stdout",
          "text": [
            "3\n",
            "0\n"
          ]
        },
        {
          "output_type": "execute_result",
          "data": {
            "text/plain": [
              "False"
            ]
          },
          "metadata": {},
          "execution_count": 9
        }
      ],
      "source": [
        "def find_a(s):\n",
        "    for i in range(len(s)):\n",
        "        if s[i] == 'a':\n",
        "            a_index = i\n",
        "        else: pass\n",
        "    return a_index\n",
        "\n",
        "\n",
        "def checkString (s : str) -> bool:\n",
        "    if len(s) == 0:\n",
        "        return True\n",
        "    else:\n",
        "        if 'a' not in s:\n",
        "            return True\n",
        "        elif 'b' not in s:\n",
        "            return False\n",
        "        a_index = find_a(s)\n",
        "        print(a_index)\n",
        "        print(s.index('b'))\n",
        "        if a_index < s.index('b'):\n",
        "            return True\n",
        "        else:\n",
        "            return False\n",
        "\n",
        "checkString(\"bbaab\")"
      ]
    }
  ]
}