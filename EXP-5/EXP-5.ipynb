{
 "cells": [
  {
   "cell_type": "markdown",
   "id": "0bd77f87-d5f1-4d6d-8e25-d046747c7e0d",
   "metadata": {},
   "source": [
    "## **EXPERIMENT NO-5 : Stack**\n",
    "## **LOKESH RATHOD**\n",
    "## **_SE3-S1 //  ROLL NO - 22_**"
   ]
  },
  {
   "cell_type": "code",
   "execution_count": 2,
   "id": "90f8404c-1ec7-439b-a7eb-4d98e922f452",
   "metadata": {},
   "outputs": [
    {
     "name": "stdout",
     "output_type": "stream",
     "text": [
      "Initial Stack\n",
      "['a', 'b', 'c']\n"
     ]
    }
   ],
   "source": [
    "stack = list ()\n",
    "\n",
    "# Append Operation\n",
    "stack.append ('a')\n",
    "stack.append ('b')\n",
    "stack.append ('c')\n",
    "print ('Initial Stack')\n",
    "print (stack)"
   ]
  },
  {
   "cell_type": "code",
   "execution_count": 3,
   "id": "17b3b3fb-b77e-44f0-a812-6b2fcd10c258",
   "metadata": {},
   "outputs": [
    {
     "name": "stdout",
     "output_type": "stream",
     "text": [
      "c\n",
      "b\n",
      "a\n",
      "[]\n"
     ]
    }
   ],
   "source": [
    "# Pop Operation\n",
    "print (stack.pop ())\n",
    "print (stack.pop ())\n",
    "print (stack.pop ())\n",
    "print (stack)"
   ]
  },
  {
   "cell_type": "code",
   "execution_count": null,
   "id": "c0cd588f-87ab-4bb1-b259-8996c0f0efab",
   "metadata": {},
   "outputs": [],
   "source": [
    "'''\n",
    "Given a valid parentheses string stringInput, return the nesting depth of stringInput.\n",
    "The nesting depth is the maximum number of nested parentheses.\n",
    "\n",
    "Example 1:\n",
    "Input: s = \"(1+(2*3)+((8)/4))+1\"\n",
    "Output: 3\n",
    "Explanation:\n",
    "Digit 8 is inside of 3 nested parentheses in the string.\n",
    "\n",
    "Example 2:\n",
    "Input: s = \"(1)+((2))+(((3)))\"\n",
    "Output: 3\n",
    "Explanation:\n",
    "Digit 3 is inside of 3 nested parentheses in the string.\n",
    "\n",
    "Example 3:\n",
    "Input: s = \"()(())((()()))\"\n",
    "Output: 3\n",
    "'''"
   ]
  },
  {
   "cell_type": "code",
   "execution_count": 14,
   "id": "4386b8af-fc3a-45e7-a32a-a1c24c9fdc00",
   "metadata": {},
   "outputs": [
    {
     "name": "stdout",
     "output_type": "stream",
     "text": [
      "The depth of nesting level is :\n",
      "3\n",
      "2\n"
     ]
    }
   ],
   "source": [
    "class StackDepth:\n",
    "    def maximumDepth(self, stringInput: str) -> int:\n",
    "        max_depth = 0\n",
    "        current_depth = 0\n",
    "        \n",
    "        for char in stringInput:\n",
    "            if char == '(':  \n",
    "                current_depth += 1\n",
    "                max_depth = max(max_depth, current_depth)\n",
    "            elif char == ')': \n",
    "                current_depth -= 1\n",
    "        \n",
    "        return max_depth\n",
    "stack_depth = StackDepth()\n",
    "print(\"The depth of nesting level is :\")\n",
    "print(stack_depth.maximumDepth(\"(1+(2*3)+((8)/4))+1\"))\n",
    "print(stack_depth.maximumDepth(\"(a+(b*c))\"))  \n"
   ]
  },
  {
   "cell_type": "code",
   "execution_count": null,
   "id": "325abbda-48f9-40c0-85a6-25ef193d4934",
   "metadata": {},
   "outputs": [],
   "source": []
  }
 ],
 "metadata": {
  "kernelspec": {
   "display_name": "Python 3 (ipykernel)",
   "language": "python",
   "name": "python3"
  },
  "language_info": {
   "codemirror_mode": {
    "name": "ipython",
    "version": 3
   },
   "file_extension": ".py",
   "mimetype": "text/x-python",
   "name": "python",
   "nbconvert_exporter": "python",
   "pygments_lexer": "ipython3",
   "version": "3.13.1"
  }
 },
 "nbformat": 4,
 "nbformat_minor": 5
}
