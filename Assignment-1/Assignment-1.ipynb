{
 "cells": [
  {
   "cell_type": "code",
   "execution_count": null,
   "id": "9f2b7c74-aabd-4b0c-8c97-4cb8ce7b79de",
   "metadata": {},
   "outputs": [
    {
     "name": "stdout",
     "output_type": "stream",
     "text": [
      "***MENU***\n",
      "1. Add Product\n",
      "2. Update Stock\n",
      "3. View Product Details\n",
      "4. Exit System\n"
     ]
    },
    {
     "name": "stdin",
     "output_type": "stream",
     "text": [
      "Enter your choice:  1\n",
      "Enter product name:  Laptop\n",
      "Enter product price:  999\n",
      "Enter product stock:  20\n"
     ]
    },
    {
     "name": "stdout",
     "output_type": "stream",
     "text": [
      "Product added successfully!\n",
      "***MENU***\n",
      "1. Add Product\n",
      "2. Update Stock\n",
      "3. View Product Details\n",
      "4. Exit System\n"
     ]
    },
    {
     "name": "stdin",
     "output_type": "stream",
     "text": [
      "Enter your choice:  3\n",
      "Enter product name:  Laptop\n"
     ]
    },
    {
     "name": "stdout",
     "output_type": "stream",
     "text": [
      "Product: Laptop, Price: $999.00, Stock: 20\n",
      "***MENU***\n",
      "1. Add Product\n",
      "2. Update Stock\n",
      "3. View Product Details\n",
      "4. Exit System\n"
     ]
    },
    {
     "name": "stdin",
     "output_type": "stream",
     "text": [
      "Enter your choice:  2\n",
      "Enter product name to update:  Laptop\n",
      "Enter quantity to add/remove (positive to add, negative to remove):  -10\n"
     ]
    },
    {
     "name": "stdout",
     "output_type": "stream",
     "text": [
      "Stock updated successfully!\n",
      "***MENU***\n",
      "1. Add Product\n",
      "2. Update Stock\n",
      "3. View Product Details\n",
      "4. Exit System\n"
     ]
    },
    {
     "name": "stdin",
     "output_type": "stream",
     "text": [
      "Enter your choice:  3\n",
      "Enter product name:  Laptop\n"
     ]
    },
    {
     "name": "stdout",
     "output_type": "stream",
     "text": [
      "Product: Laptop, Price: $999.00, Stock: 10\n",
      "***MENU***\n",
      "1. Add Product\n",
      "2. Update Stock\n",
      "3. View Product Details\n",
      "4. Exit System\n"
     ]
    }
   ],
   "source": [
    "class Product:\n",
    "    def __init__(self, name, price, stock):\n",
    "        self.name: str = name\n",
    "        self.price: float = price\n",
    "        self.stock: int = stock\n",
    "\n",
    "    def update_stock(self, quantity):\n",
    "        self.stock += quantity\n",
    "\n",
    "    def __str__(self):\n",
    "        return f\"Product: {self.name}, Price: ${self.price:.2f}, Stock: {self.stock}\"\n",
    "\n",
    "products = {}\n",
    "\n",
    "while True:\n",
    "    print(\"***MENU***\\n1. Add Product\\n2. Update Stock\\n3. View Product Details\\n4. Exit System\")\n",
    "    choice = input(\"Enter your choice: \")\n",
    "\n",
    "    if choice == '1':\n",
    "        name = input(\"Enter product name: \")\n",
    "        price = float(input(\"Enter product price: \"))\n",
    "        stock = int(input(\"Enter product stock: \"))\n",
    "        products[name] = Product(name, price, stock)\n",
    "        print(\"Product added successfully!\")\n",
    "\n",
    "    elif choice == '2':\n",
    "        name = input(\"Enter product name to update: \")\n",
    "        if name in products:\n",
    "            quantity = int(input(\"Enter quantity to add/remove (positive to add, negative to remove): \"))\n",
    "            products[name].update_stock(quantity)\n",
    "            print(\"Stock updated successfully!\")\n",
    "        else:\n",
    "            print(\"Product not found.\")\n",
    "\n",
    "    elif choice == '3':\n",
    "        name = input(\"Enter product name: \")\n",
    "        if name in products:\n",
    "            print(products[name])\n",
    "        else:\n",
    "            print(\"Product not found.\")\n",
    "\n",
    "    elif choice == '4':\n",
    "        print(\"Exiting the system. Goodbye!\")\n",
    "        break\n",
    "\n",
    "    else:\n",
    "        print(\"Invalid choice.Try again.\")"
   ]
  },
  {
   "cell_type": "code",
   "execution_count": null,
   "id": "97d11216-5085-4278-bab8-e5ea70cd1eb4",
   "metadata": {},
   "outputs": [],
   "source": []
  }
 ],
 "metadata": {
  "kernelspec": {
   "display_name": "Python 3 (ipykernel)",
   "language": "python",
   "name": "python3"
  },
  "language_info": {
   "codemirror_mode": {
    "name": "ipython",
    "version": 3
   },
   "file_extension": ".py",
   "mimetype": "text/x-python",
   "name": "python",
   "nbconvert_exporter": "python",
   "pygments_lexer": "ipython3",
   "version": "3.13.1"
  }
 },
 "nbformat": 4,
 "nbformat_minor": 5
}
