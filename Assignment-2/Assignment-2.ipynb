{
 "cells": [
  {
   "attachments": {},
   "cell_type": "markdown",
   "id": "c834a181-862c-4a54-a070-ce343a0f754b",
   "metadata": {},
   "source": [
    "## **Lokesh Rathod** \n",
    "## Div-SE3 // Batch-S1 // Roll No. - 22\n",
    "\n",
    "\n",
    "\n"
   ]
  },
  {
   "cell_type": "code",
   "execution_count": 6,
   "id": "027a47f5-d5b4-4b94-b227-fa9808137233",
   "metadata": {},
   "outputs": [
    {
     "name": "stdout",
     "output_type": "stream",
     "text": [
      "[('2025-02-10 15:45:32', 'Net_Module', 'Connection timeout from 192.168.1.10. Error Code: 0xAB12CD34'), ('2025-02-10 17:12:05', 'Security_Module', 'Unauthorized access detected from 10.0.0.5. Error Code: 0xDEADBEEF')]\n"
     ]
    }
   ],
   "source": [
    "import re\n",
    "\n",
    "def extract_critical_errors(log_data: str) -> list[tuple]:\n",
    "    pattern = (\n",
    "        r'\\[(\\d{4}-\\d{2}-\\d{2} \\d{2}:\\d{2}:\\d{2})\\] '  \n",
    "        r'\\[ERROR\\] '  # Match only ERROR logs\n",
    "        r'\\[([a-zA-Z0-9_]+)\\] '  # Module name\n",
    "        r'(.*?(?:(?:25[0-5]|2[0-4]\\d|1\\d{2}|\\d{1,2})\\.'  \n",
    "        r'(?:25[0-5]|2[0-4]\\d|1\\d{2}|\\d{1,2})\\.'\n",
    "        r'(?:25[0-5]|2[0-4]\\d|1\\d{2}|\\d{1,2})\\.'\n",
    "        r'(?:25[0-5]|2[0-4]\\d|1\\d{2}|\\d{1,2}))'  \n",
    "        r'.*?(0x[0-9A-Fa-f]{8}))'  \n",
    "    )\n",
    "\n",
    "    matches = re.findall(pattern, log_data)\n",
    "    return [(match[0], match[1], match[2]) for match in matches]\n",
    "\n",
    "\n",
    "log_data = \"\"\"[2025-02-10 14:23:01] [INFO] [Auth_Module] User login successful.\n",
    "[2025-02-10 15:45:32] [ERROR] [Net_Module] Connection timeout from 192.168.1.10. Error Code: 0xAB12CD34\n",
    "[2025-02-10 16:01:10] [WARN] [Disk_Module] Low disk space warning.\n",
    "[2025-02-10 17:12:05] [ERROR] [Security_Module] Unauthorized access detected from 10.0.0.5. Error Code: 0xDEADBEEF\"\"\"\n",
    "\n",
    "\n",
    "critical_errors = extract_critical_errors(log_data)\n",
    "\n",
    "\n",
    "print(critical_errors)"
   ]
  },
  {
   "cell_type": "code",
   "execution_count": null,
   "id": "14ec3ab8-e41d-4020-97c0-a228ea65540e",
   "metadata": {},
   "outputs": [],
   "source": []
  }
 ],
 "metadata": {
  "kernelspec": {
   "display_name": "Python 3 (ipykernel)",
   "language": "python",
   "name": "python3"
  },
  "language_info": {
   "codemirror_mode": {
    "name": "ipython",
    "version": 3
   },
   "file_extension": ".py",
   "mimetype": "text/x-python",
   "name": "python",
   "nbconvert_exporter": "python",
   "pygments_lexer": "ipython3",
   "version": "3.13.1"
  }
 },
 "nbformat": 4,
 "nbformat_minor": 5
}
